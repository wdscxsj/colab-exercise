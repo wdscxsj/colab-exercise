{
  "cells": [
    {
      "cell_type": "code",
      "source": [
        "#@title Copyright 2023 Google LLC. Double-click for license information.\n",
        "# Licensed under the Apache License, Version 2.0 (the \"License\");\n",
        "# you may not use this file except in compliance with the License.\n",
        "# You may obtain a copy of the License at\n",
        "#\n",
        "# https://www.apache.org/licenses/LICENSE-2.0\n",
        "#\n",
        "# Unless required by applicable law or agreed to in writing, software\n",
        "# distributed under the License is distributed on an \"AS IS\" BASIS,\n",
        "# WITHOUT WARRANTIES OR CONDITIONS OF ANY KIND, either express or implied.\n",
        "# See the License for the specific language governing permissions and\n",
        "# limitations under the License."
      ],
      "metadata": {
        "id": "kYmgbnGytC9h",
        "cellView": "form"
      },
      "execution_count": null,
      "outputs": []
    },
    {
      "cell_type": "markdown",
      "metadata": {
        "id": "CeNGK50ZP5pR"
      },
      "source": [
        "# Colabs\n",
        "\n",
        "Machine Learning Crash Course uses Colaboratories (Colabs) for all programming exercises. Colab is Google's implementation of [Jupyter Notebook](https://jupyter.org/). For more information about Colabs and how to use them, go to [Welcome to Colaboratory](https://research.google.com/colaboratory).\n",
        "\n",
        "# Binary classification\n",
        "\n",
        "In this Colab, you'll complete the following tasks:\n",
        "- Examine a dataset containing measurements derived from images of two species of Turkish rice.\n",
        "- Create a binary classifier to sort grains of rice into the two species.\n",
        "- Evaluate the performance of the model.\n",
        "\n",
        "## Learning objectives\n",
        "\n",
        "By completing this Colab, you'll learn:\n",
        "- How to train a binary classifier.\n",
        "- How to calculate metrics for a binary classifier at different thresholds.\n",
        "- How to compare AUC and ROC of two different models.\n",
        "\n",
        "## Dataset\n",
        "\n",
        "This Colab uses the Cinar and Koklu 2019 Osmancik and Cammeo rice dataset.\n",
        "\n",
        "Provided with a CC0 license (see [Kaggle](https://www.kaggle.com/datasets/muratkokludataset/rice-dataset-commeo-and-osmancik) for more documentation; lengths and area are given in pixels). Cinar and Koklu also provide datasets for multiclass (5 species of rice), pistachios, raisins, grape leaves, and so on, at their [repository](https://www.muratkoklu.com/datasets/).\n",
        "\n",
        "### Citation\n",
        "\n",
        "Cinar, I. and Koklu, M., (2019). “Classification of Rice Varieties Using Artificial Intelligence Methods.” *International Journal of Intelligent Systems and Applications in Engineering*, 7(3), 188-194.\n",
        "\n",
        "DOI: https://doi.org/10.18201/ijisae.2019355381\n"
      ]
    },
    {
      "cell_type": "markdown",
      "metadata": {
        "id": "D4JwY1X5iryL"
      },
      "source": [
        "# Load Imports"
      ]
    },
    {
      "cell_type": "code",
      "source": [
        "# @title Install required libraries\n",
        "\n",
        "!pip install google-ml-edu==0.1.2 \\\n",
        "    keras~=3.8.0 \\\n",
        "    matplotlib~=3.10.0 \\\n",
        "    numpy~=2.0.0 \\\n",
        "    pandas~=2.2.0 \\\n",
        "    tensorflow~=2.18.0\n",
        "\n",
        "print('\\n\\nAll requirements successfully installed.')"
      ],
      "metadata": {
        "cellView": "form",
        "id": "cJt1sNSzb-6z",
        "outputId": "bfdb5d3c-2db7-4206-a664-61f280b891cb",
        "colab": {
          "base_uri": "https://localhost:8080/"
        }
      },
      "execution_count": 1,
      "outputs": [
        {
          "output_type": "stream",
          "name": "stdout",
          "text": [
            "Collecting google-ml-edu==0.1.2\n",
            "  Downloading google_ml_edu-0.1.2-py3-none-any.whl.metadata (1.4 kB)\n",
            "Requirement already satisfied: keras~=3.8.0 in /usr/local/lib/python3.11/dist-packages (3.8.0)\n",
            "Requirement already satisfied: matplotlib~=3.10.0 in /usr/local/lib/python3.11/dist-packages (3.10.0)\n",
            "Requirement already satisfied: numpy~=2.0.0 in /usr/local/lib/python3.11/dist-packages (2.0.2)\n",
            "Requirement already satisfied: pandas~=2.2.0 in /usr/local/lib/python3.11/dist-packages (2.2.2)\n",
            "Requirement already satisfied: tensorflow~=2.18.0 in /usr/local/lib/python3.11/dist-packages (2.18.0)\n",
            "Requirement already satisfied: absl-py in /usr/local/lib/python3.11/dist-packages (from keras~=3.8.0) (1.4.0)\n",
            "Requirement already satisfied: rich in /usr/local/lib/python3.11/dist-packages (from keras~=3.8.0) (13.9.4)\n",
            "Requirement already satisfied: namex in /usr/local/lib/python3.11/dist-packages (from keras~=3.8.0) (0.0.9)\n",
            "Requirement already satisfied: h5py in /usr/local/lib/python3.11/dist-packages (from keras~=3.8.0) (3.13.0)\n",
            "Requirement already satisfied: optree in /usr/local/lib/python3.11/dist-packages (from keras~=3.8.0) (0.15.0)\n",
            "Requirement already satisfied: ml-dtypes in /usr/local/lib/python3.11/dist-packages (from keras~=3.8.0) (0.4.1)\n",
            "Requirement already satisfied: packaging in /usr/local/lib/python3.11/dist-packages (from keras~=3.8.0) (24.2)\n",
            "Requirement already satisfied: contourpy>=1.0.1 in /usr/local/lib/python3.11/dist-packages (from matplotlib~=3.10.0) (1.3.2)\n",
            "Requirement already satisfied: cycler>=0.10 in /usr/local/lib/python3.11/dist-packages (from matplotlib~=3.10.0) (0.12.1)\n",
            "Requirement already satisfied: fonttools>=4.22.0 in /usr/local/lib/python3.11/dist-packages (from matplotlib~=3.10.0) (4.57.0)\n",
            "Requirement already satisfied: kiwisolver>=1.3.1 in /usr/local/lib/python3.11/dist-packages (from matplotlib~=3.10.0) (1.4.8)\n",
            "Requirement already satisfied: pillow>=8 in /usr/local/lib/python3.11/dist-packages (from matplotlib~=3.10.0) (11.2.1)\n",
            "Requirement already satisfied: pyparsing>=2.3.1 in /usr/local/lib/python3.11/dist-packages (from matplotlib~=3.10.0) (3.2.3)\n",
            "Requirement already satisfied: python-dateutil>=2.7 in /usr/local/lib/python3.11/dist-packages (from matplotlib~=3.10.0) (2.9.0.post0)\n",
            "Requirement already satisfied: pytz>=2020.1 in /usr/local/lib/python3.11/dist-packages (from pandas~=2.2.0) (2025.2)\n",
            "Requirement already satisfied: tzdata>=2022.7 in /usr/local/lib/python3.11/dist-packages (from pandas~=2.2.0) (2025.2)\n",
            "Requirement already satisfied: astunparse>=1.6.0 in /usr/local/lib/python3.11/dist-packages (from tensorflow~=2.18.0) (1.6.3)\n",
            "Requirement already satisfied: flatbuffers>=24.3.25 in /usr/local/lib/python3.11/dist-packages (from tensorflow~=2.18.0) (25.2.10)\n",
            "Requirement already satisfied: gast!=0.5.0,!=0.5.1,!=0.5.2,>=0.2.1 in /usr/local/lib/python3.11/dist-packages (from tensorflow~=2.18.0) (0.6.0)\n",
            "Requirement already satisfied: google-pasta>=0.1.1 in /usr/local/lib/python3.11/dist-packages (from tensorflow~=2.18.0) (0.2.0)\n",
            "Requirement already satisfied: libclang>=13.0.0 in /usr/local/lib/python3.11/dist-packages (from tensorflow~=2.18.0) (18.1.1)\n",
            "Requirement already satisfied: opt-einsum>=2.3.2 in /usr/local/lib/python3.11/dist-packages (from tensorflow~=2.18.0) (3.4.0)\n",
            "Requirement already satisfied: protobuf!=4.21.0,!=4.21.1,!=4.21.2,!=4.21.3,!=4.21.4,!=4.21.5,<6.0.0dev,>=3.20.3 in /usr/local/lib/python3.11/dist-packages (from tensorflow~=2.18.0) (5.29.4)\n",
            "Requirement already satisfied: requests<3,>=2.21.0 in /usr/local/lib/python3.11/dist-packages (from tensorflow~=2.18.0) (2.32.3)\n",
            "Requirement already satisfied: setuptools in /usr/local/lib/python3.11/dist-packages (from tensorflow~=2.18.0) (75.2.0)\n",
            "Requirement already satisfied: six>=1.12.0 in /usr/local/lib/python3.11/dist-packages (from tensorflow~=2.18.0) (1.17.0)\n",
            "Requirement already satisfied: termcolor>=1.1.0 in /usr/local/lib/python3.11/dist-packages (from tensorflow~=2.18.0) (3.0.1)\n",
            "Requirement already satisfied: typing-extensions>=3.6.6 in /usr/local/lib/python3.11/dist-packages (from tensorflow~=2.18.0) (4.13.2)\n",
            "Requirement already satisfied: wrapt>=1.11.0 in /usr/local/lib/python3.11/dist-packages (from tensorflow~=2.18.0) (1.17.2)\n",
            "Requirement already satisfied: grpcio<2.0,>=1.24.3 in /usr/local/lib/python3.11/dist-packages (from tensorflow~=2.18.0) (1.71.0)\n",
            "Requirement already satisfied: tensorboard<2.19,>=2.18 in /usr/local/lib/python3.11/dist-packages (from tensorflow~=2.18.0) (2.18.0)\n",
            "Requirement already satisfied: tensorflow-io-gcs-filesystem>=0.23.1 in /usr/local/lib/python3.11/dist-packages (from tensorflow~=2.18.0) (0.37.1)\n",
            "Requirement already satisfied: wheel<1.0,>=0.23.0 in /usr/local/lib/python3.11/dist-packages (from astunparse>=1.6.0->tensorflow~=2.18.0) (0.45.1)\n",
            "Requirement already satisfied: charset-normalizer<4,>=2 in /usr/local/lib/python3.11/dist-packages (from requests<3,>=2.21.0->tensorflow~=2.18.0) (3.4.1)\n",
            "Requirement already satisfied: idna<4,>=2.5 in /usr/local/lib/python3.11/dist-packages (from requests<3,>=2.21.0->tensorflow~=2.18.0) (3.10)\n",
            "Requirement already satisfied: urllib3<3,>=1.21.1 in /usr/local/lib/python3.11/dist-packages (from requests<3,>=2.21.0->tensorflow~=2.18.0) (2.4.0)\n",
            "Requirement already satisfied: certifi>=2017.4.17 in /usr/local/lib/python3.11/dist-packages (from requests<3,>=2.21.0->tensorflow~=2.18.0) (2025.4.26)\n",
            "Requirement already satisfied: markdown>=2.6.8 in /usr/local/lib/python3.11/dist-packages (from tensorboard<2.19,>=2.18->tensorflow~=2.18.0) (3.8)\n",
            "Requirement already satisfied: tensorboard-data-server<0.8.0,>=0.7.0 in /usr/local/lib/python3.11/dist-packages (from tensorboard<2.19,>=2.18->tensorflow~=2.18.0) (0.7.2)\n",
            "Requirement already satisfied: werkzeug>=1.0.1 in /usr/local/lib/python3.11/dist-packages (from tensorboard<2.19,>=2.18->tensorflow~=2.18.0) (3.1.3)\n",
            "Requirement already satisfied: markdown-it-py>=2.2.0 in /usr/local/lib/python3.11/dist-packages (from rich->keras~=3.8.0) (3.0.0)\n",
            "Requirement already satisfied: pygments<3.0.0,>=2.13.0 in /usr/local/lib/python3.11/dist-packages (from rich->keras~=3.8.0) (2.19.1)\n",
            "Requirement already satisfied: mdurl~=0.1 in /usr/local/lib/python3.11/dist-packages (from markdown-it-py>=2.2.0->rich->keras~=3.8.0) (0.1.2)\n",
            "Requirement already satisfied: MarkupSafe>=2.1.1 in /usr/local/lib/python3.11/dist-packages (from werkzeug>=1.0.1->tensorboard<2.19,>=2.18->tensorflow~=2.18.0) (3.0.2)\n",
            "Downloading google_ml_edu-0.1.2-py3-none-any.whl (8.8 kB)\n",
            "Installing collected packages: google-ml-edu\n",
            "Successfully installed google-ml-edu-0.1.2\n",
            "\n",
            "\n",
            "All requirements successfully installed.\n"
          ]
        }
      ]
    },
    {
      "cell_type": "code",
      "execution_count": 2,
      "metadata": {
        "cellView": "form",
        "id": "irD_75BI97__",
        "outputId": "bcd98b35-5c42-4d68-ba20-929c3edef0fc",
        "colab": {
          "base_uri": "https://localhost:8080/"
        }
      },
      "outputs": [
        {
          "output_type": "stream",
          "name": "stdout",
          "text": [
            "Ran the import statements.\n"
          ]
        }
      ],
      "source": [
        "# @title Load the imports\n",
        "\n",
        "import io\n",
        "import keras\n",
        "from matplotlib import pyplot as plt\n",
        "from matplotlib.lines import Line2D\n",
        "import ml_edu.experiment\n",
        "import ml_edu.results\n",
        "import numpy as np\n",
        "import pandas as pd\n",
        "import plotly.express as px\n",
        "\n",
        "# The following lines adjust the granularity of reporting.\n",
        "pd.options.display.max_rows = 10\n",
        "pd.options.display.float_format = \"{:.1f}\".format\n",
        "\n",
        "print(\"Ran the import statements.\")"
      ]
    },
    {
      "cell_type": "code",
      "execution_count": 3,
      "metadata": {
        "cellView": "form",
        "id": "aDobhxERWPD1"
      },
      "outputs": [],
      "source": [
        "# @title Load the dataset\n",
        "rice_dataset_raw = pd.read_csv(\"https://download.mlcc.google.com/mledu-datasets/Rice_Cammeo_Osmancik.csv\")"
      ]
    },
    {
      "cell_type": "markdown",
      "metadata": {
        "id": "1IqvqOvaQqlK"
      },
      "source": [
        "Once the dataset has been loaded via the cell above, select specific columns to show summary statistics of the numerical features in the dataset.\n",
        "\n",
        "See the Kaggle [dataset documentation](https://www.kaggle.com/datasets/muratkokludataset/rice-dataset-commeo-and-osmancik), especially the **Provenance** section, for explanations of what each feature means and how they were calculated."
      ]
    },
    {
      "cell_type": "code",
      "execution_count": 4,
      "metadata": {
        "id": "XKakOMCmHp-E",
        "outputId": "565eec7f-d6d0-4dd8-d53d-b2f4166485fc",
        "colab": {
          "base_uri": "https://localhost:8080/",
          "height": 300
        }
      },
      "outputs": [
        {
          "output_type": "execute_result",
          "data": {
            "text/plain": [
              "         Area  Perimeter  Major_Axis_Length  Minor_Axis_Length  Eccentricity  \\\n",
              "count  3810.0     3810.0             3810.0             3810.0        3810.0   \n",
              "mean  12667.7      454.2              188.8               86.3           0.9   \n",
              "std    1732.4       35.6               17.4                5.7           0.0   \n",
              "min    7551.0      359.1              145.3               59.5           0.8   \n",
              "25%   11370.5      426.1              174.4               82.7           0.9   \n",
              "50%   12421.5      448.9              185.8               86.4           0.9   \n",
              "75%   13950.0      483.7              203.6               90.1           0.9   \n",
              "max   18913.0      548.4              239.0              107.5           0.9   \n",
              "\n",
              "       Convex_Area  Extent  \n",
              "count       3810.0  3810.0  \n",
              "mean       12952.5     0.7  \n",
              "std         1777.0     0.1  \n",
              "min         7723.0     0.5  \n",
              "25%        11626.2     0.6  \n",
              "50%        12706.5     0.6  \n",
              "75%        14284.0     0.7  \n",
              "max        19099.0     0.9  "
            ],
            "text/html": [
              "\n",
              "  <div id=\"df-7b57e23e-6f7c-4d82-8a32-bcac1e95ec44\" class=\"colab-df-container\">\n",
              "    <div>\n",
              "<style scoped>\n",
              "    .dataframe tbody tr th:only-of-type {\n",
              "        vertical-align: middle;\n",
              "    }\n",
              "\n",
              "    .dataframe tbody tr th {\n",
              "        vertical-align: top;\n",
              "    }\n",
              "\n",
              "    .dataframe thead th {\n",
              "        text-align: right;\n",
              "    }\n",
              "</style>\n",
              "<table border=\"1\" class=\"dataframe\">\n",
              "  <thead>\n",
              "    <tr style=\"text-align: right;\">\n",
              "      <th></th>\n",
              "      <th>Area</th>\n",
              "      <th>Perimeter</th>\n",
              "      <th>Major_Axis_Length</th>\n",
              "      <th>Minor_Axis_Length</th>\n",
              "      <th>Eccentricity</th>\n",
              "      <th>Convex_Area</th>\n",
              "      <th>Extent</th>\n",
              "    </tr>\n",
              "  </thead>\n",
              "  <tbody>\n",
              "    <tr>\n",
              "      <th>count</th>\n",
              "      <td>3810.0</td>\n",
              "      <td>3810.0</td>\n",
              "      <td>3810.0</td>\n",
              "      <td>3810.0</td>\n",
              "      <td>3810.0</td>\n",
              "      <td>3810.0</td>\n",
              "      <td>3810.0</td>\n",
              "    </tr>\n",
              "    <tr>\n",
              "      <th>mean</th>\n",
              "      <td>12667.7</td>\n",
              "      <td>454.2</td>\n",
              "      <td>188.8</td>\n",
              "      <td>86.3</td>\n",
              "      <td>0.9</td>\n",
              "      <td>12952.5</td>\n",
              "      <td>0.7</td>\n",
              "    </tr>\n",
              "    <tr>\n",
              "      <th>std</th>\n",
              "      <td>1732.4</td>\n",
              "      <td>35.6</td>\n",
              "      <td>17.4</td>\n",
              "      <td>5.7</td>\n",
              "      <td>0.0</td>\n",
              "      <td>1777.0</td>\n",
              "      <td>0.1</td>\n",
              "    </tr>\n",
              "    <tr>\n",
              "      <th>min</th>\n",
              "      <td>7551.0</td>\n",
              "      <td>359.1</td>\n",
              "      <td>145.3</td>\n",
              "      <td>59.5</td>\n",
              "      <td>0.8</td>\n",
              "      <td>7723.0</td>\n",
              "      <td>0.5</td>\n",
              "    </tr>\n",
              "    <tr>\n",
              "      <th>25%</th>\n",
              "      <td>11370.5</td>\n",
              "      <td>426.1</td>\n",
              "      <td>174.4</td>\n",
              "      <td>82.7</td>\n",
              "      <td>0.9</td>\n",
              "      <td>11626.2</td>\n",
              "      <td>0.6</td>\n",
              "    </tr>\n",
              "    <tr>\n",
              "      <th>50%</th>\n",
              "      <td>12421.5</td>\n",
              "      <td>448.9</td>\n",
              "      <td>185.8</td>\n",
              "      <td>86.4</td>\n",
              "      <td>0.9</td>\n",
              "      <td>12706.5</td>\n",
              "      <td>0.6</td>\n",
              "    </tr>\n",
              "    <tr>\n",
              "      <th>75%</th>\n",
              "      <td>13950.0</td>\n",
              "      <td>483.7</td>\n",
              "      <td>203.6</td>\n",
              "      <td>90.1</td>\n",
              "      <td>0.9</td>\n",
              "      <td>14284.0</td>\n",
              "      <td>0.7</td>\n",
              "    </tr>\n",
              "    <tr>\n",
              "      <th>max</th>\n",
              "      <td>18913.0</td>\n",
              "      <td>548.4</td>\n",
              "      <td>239.0</td>\n",
              "      <td>107.5</td>\n",
              "      <td>0.9</td>\n",
              "      <td>19099.0</td>\n",
              "      <td>0.9</td>\n",
              "    </tr>\n",
              "  </tbody>\n",
              "</table>\n",
              "</div>\n",
              "    <div class=\"colab-df-buttons\">\n",
              "\n",
              "  <div class=\"colab-df-container\">\n",
              "    <button class=\"colab-df-convert\" onclick=\"convertToInteractive('df-7b57e23e-6f7c-4d82-8a32-bcac1e95ec44')\"\n",
              "            title=\"Convert this dataframe to an interactive table.\"\n",
              "            style=\"display:none;\">\n",
              "\n",
              "  <svg xmlns=\"http://www.w3.org/2000/svg\" height=\"24px\" viewBox=\"0 -960 960 960\">\n",
              "    <path d=\"M120-120v-720h720v720H120Zm60-500h600v-160H180v160Zm220 220h160v-160H400v160Zm0 220h160v-160H400v160ZM180-400h160v-160H180v160Zm440 0h160v-160H620v160ZM180-180h160v-160H180v160Zm440 0h160v-160H620v160Z\"/>\n",
              "  </svg>\n",
              "    </button>\n",
              "\n",
              "  <style>\n",
              "    .colab-df-container {\n",
              "      display:flex;\n",
              "      gap: 12px;\n",
              "    }\n",
              "\n",
              "    .colab-df-convert {\n",
              "      background-color: #E8F0FE;\n",
              "      border: none;\n",
              "      border-radius: 50%;\n",
              "      cursor: pointer;\n",
              "      display: none;\n",
              "      fill: #1967D2;\n",
              "      height: 32px;\n",
              "      padding: 0 0 0 0;\n",
              "      width: 32px;\n",
              "    }\n",
              "\n",
              "    .colab-df-convert:hover {\n",
              "      background-color: #E2EBFA;\n",
              "      box-shadow: 0px 1px 2px rgba(60, 64, 67, 0.3), 0px 1px 3px 1px rgba(60, 64, 67, 0.15);\n",
              "      fill: #174EA6;\n",
              "    }\n",
              "\n",
              "    .colab-df-buttons div {\n",
              "      margin-bottom: 4px;\n",
              "    }\n",
              "\n",
              "    [theme=dark] .colab-df-convert {\n",
              "      background-color: #3B4455;\n",
              "      fill: #D2E3FC;\n",
              "    }\n",
              "\n",
              "    [theme=dark] .colab-df-convert:hover {\n",
              "      background-color: #434B5C;\n",
              "      box-shadow: 0px 1px 3px 1px rgba(0, 0, 0, 0.15);\n",
              "      filter: drop-shadow(0px 1px 2px rgba(0, 0, 0, 0.3));\n",
              "      fill: #FFFFFF;\n",
              "    }\n",
              "  </style>\n",
              "\n",
              "    <script>\n",
              "      const buttonEl =\n",
              "        document.querySelector('#df-7b57e23e-6f7c-4d82-8a32-bcac1e95ec44 button.colab-df-convert');\n",
              "      buttonEl.style.display =\n",
              "        google.colab.kernel.accessAllowed ? 'block' : 'none';\n",
              "\n",
              "      async function convertToInteractive(key) {\n",
              "        const element = document.querySelector('#df-7b57e23e-6f7c-4d82-8a32-bcac1e95ec44');\n",
              "        const dataTable =\n",
              "          await google.colab.kernel.invokeFunction('convertToInteractive',\n",
              "                                                    [key], {});\n",
              "        if (!dataTable) return;\n",
              "\n",
              "        const docLinkHtml = 'Like what you see? Visit the ' +\n",
              "          '<a target=\"_blank\" href=https://colab.research.google.com/notebooks/data_table.ipynb>data table notebook</a>'\n",
              "          + ' to learn more about interactive tables.';\n",
              "        element.innerHTML = '';\n",
              "        dataTable['output_type'] = 'display_data';\n",
              "        await google.colab.output.renderOutput(dataTable, element);\n",
              "        const docLink = document.createElement('div');\n",
              "        docLink.innerHTML = docLinkHtml;\n",
              "        element.appendChild(docLink);\n",
              "      }\n",
              "    </script>\n",
              "  </div>\n",
              "\n",
              "\n",
              "    <div id=\"df-1ad7bd5a-41d0-458b-8cdd-f093a70ac777\">\n",
              "      <button class=\"colab-df-quickchart\" onclick=\"quickchart('df-1ad7bd5a-41d0-458b-8cdd-f093a70ac777')\"\n",
              "                title=\"Suggest charts\"\n",
              "                style=\"display:none;\">\n",
              "\n",
              "<svg xmlns=\"http://www.w3.org/2000/svg\" height=\"24px\"viewBox=\"0 0 24 24\"\n",
              "     width=\"24px\">\n",
              "    <g>\n",
              "        <path d=\"M19 3H5c-1.1 0-2 .9-2 2v14c0 1.1.9 2 2 2h14c1.1 0 2-.9 2-2V5c0-1.1-.9-2-2-2zM9 17H7v-7h2v7zm4 0h-2V7h2v10zm4 0h-2v-4h2v4z\"/>\n",
              "    </g>\n",
              "</svg>\n",
              "      </button>\n",
              "\n",
              "<style>\n",
              "  .colab-df-quickchart {\n",
              "      --bg-color: #E8F0FE;\n",
              "      --fill-color: #1967D2;\n",
              "      --hover-bg-color: #E2EBFA;\n",
              "      --hover-fill-color: #174EA6;\n",
              "      --disabled-fill-color: #AAA;\n",
              "      --disabled-bg-color: #DDD;\n",
              "  }\n",
              "\n",
              "  [theme=dark] .colab-df-quickchart {\n",
              "      --bg-color: #3B4455;\n",
              "      --fill-color: #D2E3FC;\n",
              "      --hover-bg-color: #434B5C;\n",
              "      --hover-fill-color: #FFFFFF;\n",
              "      --disabled-bg-color: #3B4455;\n",
              "      --disabled-fill-color: #666;\n",
              "  }\n",
              "\n",
              "  .colab-df-quickchart {\n",
              "    background-color: var(--bg-color);\n",
              "    border: none;\n",
              "    border-radius: 50%;\n",
              "    cursor: pointer;\n",
              "    display: none;\n",
              "    fill: var(--fill-color);\n",
              "    height: 32px;\n",
              "    padding: 0;\n",
              "    width: 32px;\n",
              "  }\n",
              "\n",
              "  .colab-df-quickchart:hover {\n",
              "    background-color: var(--hover-bg-color);\n",
              "    box-shadow: 0 1px 2px rgba(60, 64, 67, 0.3), 0 1px 3px 1px rgba(60, 64, 67, 0.15);\n",
              "    fill: var(--button-hover-fill-color);\n",
              "  }\n",
              "\n",
              "  .colab-df-quickchart-complete:disabled,\n",
              "  .colab-df-quickchart-complete:disabled:hover {\n",
              "    background-color: var(--disabled-bg-color);\n",
              "    fill: var(--disabled-fill-color);\n",
              "    box-shadow: none;\n",
              "  }\n",
              "\n",
              "  .colab-df-spinner {\n",
              "    border: 2px solid var(--fill-color);\n",
              "    border-color: transparent;\n",
              "    border-bottom-color: var(--fill-color);\n",
              "    animation:\n",
              "      spin 1s steps(1) infinite;\n",
              "  }\n",
              "\n",
              "  @keyframes spin {\n",
              "    0% {\n",
              "      border-color: transparent;\n",
              "      border-bottom-color: var(--fill-color);\n",
              "      border-left-color: var(--fill-color);\n",
              "    }\n",
              "    20% {\n",
              "      border-color: transparent;\n",
              "      border-left-color: var(--fill-color);\n",
              "      border-top-color: var(--fill-color);\n",
              "    }\n",
              "    30% {\n",
              "      border-color: transparent;\n",
              "      border-left-color: var(--fill-color);\n",
              "      border-top-color: var(--fill-color);\n",
              "      border-right-color: var(--fill-color);\n",
              "    }\n",
              "    40% {\n",
              "      border-color: transparent;\n",
              "      border-right-color: var(--fill-color);\n",
              "      border-top-color: var(--fill-color);\n",
              "    }\n",
              "    60% {\n",
              "      border-color: transparent;\n",
              "      border-right-color: var(--fill-color);\n",
              "    }\n",
              "    80% {\n",
              "      border-color: transparent;\n",
              "      border-right-color: var(--fill-color);\n",
              "      border-bottom-color: var(--fill-color);\n",
              "    }\n",
              "    90% {\n",
              "      border-color: transparent;\n",
              "      border-bottom-color: var(--fill-color);\n",
              "    }\n",
              "  }\n",
              "</style>\n",
              "\n",
              "      <script>\n",
              "        async function quickchart(key) {\n",
              "          const quickchartButtonEl =\n",
              "            document.querySelector('#' + key + ' button');\n",
              "          quickchartButtonEl.disabled = true;  // To prevent multiple clicks.\n",
              "          quickchartButtonEl.classList.add('colab-df-spinner');\n",
              "          try {\n",
              "            const charts = await google.colab.kernel.invokeFunction(\n",
              "                'suggestCharts', [key], {});\n",
              "          } catch (error) {\n",
              "            console.error('Error during call to suggestCharts:', error);\n",
              "          }\n",
              "          quickchartButtonEl.classList.remove('colab-df-spinner');\n",
              "          quickchartButtonEl.classList.add('colab-df-quickchart-complete');\n",
              "        }\n",
              "        (() => {\n",
              "          let quickchartButtonEl =\n",
              "            document.querySelector('#df-1ad7bd5a-41d0-458b-8cdd-f093a70ac777 button');\n",
              "          quickchartButtonEl.style.display =\n",
              "            google.colab.kernel.accessAllowed ? 'block' : 'none';\n",
              "        })();\n",
              "      </script>\n",
              "    </div>\n",
              "    </div>\n",
              "  </div>\n"
            ],
            "application/vnd.google.colaboratory.intrinsic+json": {
              "type": "dataframe",
              "summary": "{\n  \"name\": \"rice_dataset\",\n  \"rows\": 8,\n  \"fields\": [\n    {\n      \"column\": \"Area\",\n      \"properties\": {\n        \"dtype\": \"number\",\n        \"std\": 5629.520748894491,\n        \"min\": 1732.367706074159,\n        \"max\": 18913.0,\n        \"num_unique_values\": 8,\n        \"samples\": [\n          12667.727559055118,\n          12421.5,\n          3810.0\n        ],\n        \"semantic_type\": \"\",\n        \"description\": \"\"\n      }\n    },\n    {\n      \"column\": \"Perimeter\",\n      \"properties\": {\n        \"dtype\": \"number\",\n        \"std\": 1217.8033948087157,\n        \"min\": 35.59708144273355,\n        \"max\": 3810.0,\n        \"num_unique_values\": 8,\n        \"samples\": [\n          454.23918014886823,\n          448.85249328613247,\n          3810.0\n        ],\n        \"semantic_type\": \"\",\n        \"description\": \"\"\n      }\n    },\n    {\n      \"column\": \"Major_Axis_Length\",\n      \"properties\": {\n        \"dtype\": \"number\",\n        \"std\": 1290.415120344675,\n        \"min\": 17.448678501746855,\n        \"max\": 3810.0,\n        \"num_unique_values\": 8,\n        \"samples\": [\n          188.77622197669328,\n          185.81005859375,\n          3810.0\n        ],\n        \"semantic_type\": \"\",\n        \"description\": \"\"\n      }\n    },\n    {\n      \"column\": \"Minor_Axis_Length\",\n      \"properties\": {\n        \"dtype\": \"number\",\n        \"std\": 1321.212762520832,\n        \"min\": 5.729817333643744,\n        \"max\": 3810.0,\n        \"num_unique_values\": 8,\n        \"samples\": [\n          86.31375037165765,\n          86.43464660644534,\n          3810.0\n        ],\n        \"semantic_type\": \"\",\n        \"description\": \"\"\n      }\n    },\n    {\n      \"column\": \"Eccentricity\",\n      \"properties\": {\n        \"dtype\": \"number\",\n        \"std\": 1346.7709152635396,\n        \"min\": 0.02081763410047773,\n        \"max\": 3810.0,\n        \"num_unique_values\": 8,\n        \"samples\": [\n          0.886870506742182,\n          0.8890500962734225,\n          3810.0\n        ],\n        \"semantic_type\": \"\",\n        \"description\": \"\"\n      }\n    },\n    {\n      \"column\": \"Convex_Area\",\n      \"properties\": {\n        \"dtype\": \"number\",\n        \"std\": 5719.293981980173,\n        \"min\": 1776.9720420835542,\n        \"max\": 19099.0,\n        \"num_unique_values\": 8,\n        \"samples\": [\n          12952.496850393702,\n          12706.5,\n          3810.0\n        ],\n        \"semantic_type\": \"\",\n        \"description\": \"\"\n      }\n    },\n    {\n      \"column\": \"Extent\",\n      \"properties\": {\n        \"dtype\": \"number\",\n        \"std\": 1346.8329515933399,\n        \"min\": 0.0772387732875267,\n        \"max\": 3810.0,\n        \"num_unique_values\": 8,\n        \"samples\": [\n          0.6619340379094202,\n          0.645361423492432,\n          3810.0\n        ],\n        \"semantic_type\": \"\",\n        \"description\": \"\"\n      }\n    }\n  ]\n}"
            }
          },
          "metadata": {},
          "execution_count": 4
        }
      ],
      "source": [
        "# @title\n",
        "# Read and provide statistics on the dataset.\n",
        "rice_dataset = rice_dataset_raw[[\n",
        "    'Area',\n",
        "    'Perimeter',\n",
        "    'Major_Axis_Length',\n",
        "    'Minor_Axis_Length',\n",
        "    'Eccentricity',\n",
        "    'Convex_Area',\n",
        "    'Extent',\n",
        "    'Class',\n",
        "]]\n",
        "\n",
        "rice_dataset.describe()"
      ]
    },
    {
      "cell_type": "markdown",
      "metadata": {
        "id": "ynv9WwTPG9oU"
      },
      "source": [
        "## Task 1: Describe the data\n",
        "\n",
        "From the summary statistics above, answer the following questions:\n",
        "- What are the min and max lengths (major axis length, given in pixels) of the rice grains?\n",
        "- What is the range of areas between the smallest and largest rice grains?\n",
        "- How many standard deviations (`std`) is the largest rice grain's perimeter from the mean?"
      ]
    },
    {
      "cell_type": "code",
      "execution_count": null,
      "metadata": {
        "cellView": "form",
        "id": "y36kQm1vJ7n3"
      },
      "outputs": [],
      "source": [
        "# @title Solutions (run the cell to get the answers)\n",
        "\n",
        "print(\n",
        "    f'The shortest grain is {rice_dataset.Major_Axis_Length.min():.1f}px long,'\n",
        "    f' while the longest is {rice_dataset.Major_Axis_Length.max():.1f}px.'\n",
        ")\n",
        "print(\n",
        "    f'The smallest rice grain has an area of {rice_dataset.Area.min()}px, while'\n",
        "    f' the largest has an area of {rice_dataset.Area.max()}px.'\n",
        ")\n",
        "print(\n",
        "    'The largest rice grain, with a perimeter of'\n",
        "    f' {rice_dataset.Perimeter.max():.1f}px, is'\n",
        "    f' ~{(rice_dataset.Perimeter.max() - rice_dataset.Perimeter.mean())/rice_dataset.Perimeter.std():.1f} standard'\n",
        "    f' deviations ({rice_dataset.Perimeter.std():.1f}) from the mean'\n",
        "    f' ({rice_dataset.Perimeter.mean():.1f}px).'\n",
        ")\n",
        "print(\n",
        "    f'This is calculated as: ({rice_dataset.Perimeter.max():.1f} -'\n",
        "    f' {rice_dataset.Perimeter.mean():.1f})/{rice_dataset.Perimeter.std():.1f} ='\n",
        "    f' {(rice_dataset.Perimeter.max() - rice_dataset.Perimeter.mean())/rice_dataset.Perimeter.std():.1f}'\n",
        ")"
      ]
    },
    {
      "cell_type": "markdown",
      "metadata": {
        "id": "Bc8JVgN2j6h3"
      },
      "source": [
        "# Explore the dataset\n",
        "\n",
        "Plot some of the features against each other, including in 3D.\n"
      ]
    },
    {
      "cell_type": "code",
      "execution_count": null,
      "metadata": {
        "id": "QNw5U7-4NFLR"
      },
      "outputs": [],
      "source": [
        "# Create five 2D plots of the features against each other, color-coded by class.\n",
        "for x_axis_data, y_axis_data in [\n",
        "    ('Area', 'Eccentricity'),\n",
        "    ('Convex_Area', 'Perimeter'),\n",
        "    ('Major_Axis_Length', 'Minor_Axis_Length'),\n",
        "    ('Perimeter', 'Extent'),\n",
        "    ('Eccentricity', 'Major_Axis_Length'),\n",
        "]:\n",
        "  px.scatter(rice_dataset, x=x_axis_data, y=y_axis_data, color='Class').show()"
      ]
    },
    {
      "cell_type": "markdown",
      "metadata": {
        "id": "G6xJ0HQxLB4N"
      },
      "source": [
        "## Task 2: Visualize samples in 3D\n",
        "\n",
        "Try graphing three of the features in 3D against each other."
      ]
    },
    {
      "cell_type": "code",
      "execution_count": null,
      "metadata": {
        "cellView": "form",
        "id": "qvpUsZF1LDWM"
      },
      "outputs": [],
      "source": [
        "#@title Plot three features in 3D by entering their names and running this cell\n",
        "\n",
        "x_axis_data = 'Enter a feature name here'  # @param {type: \"string\"}\n",
        "y_axis_data = 'Enter a feature name here'  # @param {type: \"string\"}\n",
        "z_axis_data = 'Enter a feature name here'  # @param {type: \"string\"}\n",
        "\n",
        "px.scatter_3d(\n",
        "    rice_dataset,\n",
        "    x=x_axis_data,\n",
        "    y=y_axis_data,\n",
        "    z=z_axis_data,\n",
        "    color='Class',\n",
        ").show()"
      ]
    },
    {
      "cell_type": "code",
      "execution_count": null,
      "metadata": {
        "cellView": "form",
        "id": "r5WBGiJChXt-"
      },
      "outputs": [],
      "source": [
        "# @title One possible solution\n",
        "\n",
        "# Plot major and minor axis length and eccentricity, with observations\n",
        "# color-coded by class.\n",
        "px.scatter_3d(\n",
        "    rice_dataset,\n",
        "    x='Eccentricity',\n",
        "    y='Area',\n",
        "    z='Major_Axis_Length',\n",
        "    color='Class',\n",
        ").show()"
      ]
    },
    {
      "cell_type": "markdown",
      "metadata": {
        "id": "Ch82395CSBMR"
      },
      "source": [
        "If we were to pick three features, it seems that major axis length, area, and eccentricity might contain most of the information that differentiates the two classes. Other combinations may work as well.\n",
        "\n",
        "Run the previous code cell to graph those three features if you haven't already.\n",
        "\n",
        "It seems like a distinct class boundary appears in the plane of these three features. We'll train a model on just these features, then another model on the complete set of features, and compare their performance."
      ]
    },
    {
      "cell_type": "markdown",
      "metadata": {
        "id": "_G6y-XcEmk6r"
      },
      "source": [
        "## Normalize data\n",
        "\n",
        "When creating a model with multiple features, the values of each feature should span roughly the same range.  If one feature's values range from 500 to 100,000 and another feature's values range from 2 to 12, the model will need to have weights of extremely low or extremely high values to be able to combine these features effectively. This could result in a low quality model.  To avoid this,\n",
        "[normalize](https://developers.google.com/machine-learning/glossary/#normalization) features in a multi-feature model.\n",
        "\n",
        "This can be done by converting each raw value to its Z-score. The **Z-score** for a given value is how many standard deviations away from the mean the value is.\n",
        "\n",
        "Consider a feature with a mean of 60 and a standard deviation of 10.\n",
        "\n",
        "The raw value 75 would have a Z-score of +1.5:\n",
        "\n",
        "```\n",
        "  Z-score = (75 - 60) / 10 = +1.5\n",
        "```\n",
        "\n",
        "The raw value 38 would have a Z-score of -2.2:\n",
        "\n",
        "```\n",
        "  Z-score = (38 - 60) / 10 = -2.2\n",
        "```\n",
        "\n",
        "Now normalize the numerical values in the rice dataset by converting them to Z-scores."
      ]
    },
    {
      "cell_type": "code",
      "execution_count": null,
      "metadata": {
        "id": "hSUjPSwNiyBP"
      },
      "outputs": [],
      "source": [
        "# Calculate the Z-scores of each numerical column in the raw data and write\n",
        "# them into a new DataFrame named df_norm.\n",
        "\n",
        "feature_mean = rice_dataset.mean(numeric_only=True)\n",
        "feature_std = rice_dataset.std(numeric_only=True)\n",
        "numerical_features = rice_dataset.select_dtypes('number').columns\n",
        "normalized_dataset = (\n",
        "    rice_dataset[numerical_features] - feature_mean\n",
        ") / feature_std\n",
        "\n",
        "# Copy the class to the new dataframe\n",
        "normalized_dataset['Class'] = rice_dataset['Class']\n",
        "\n",
        "# Examine some of the values of the normalized training set. Notice that most\n",
        "# Z-scores fall between -2 and +2.\n",
        "normalized_dataset.head()"
      ]
    },
    {
      "cell_type": "markdown",
      "metadata": {
        "id": "D5aXjXq-YIkL"
      },
      "source": [
        "# Set the random seeds\n",
        "\n",
        "To make experiments reproducible, we set the seed of the random number generators. This means that the order in which the data is shuffled, the values of the random weight initializations, etc, will all be the same each time the colab is run."
      ]
    },
    {
      "cell_type": "code",
      "execution_count": null,
      "metadata": {
        "id": "bu257GAFYH-N"
      },
      "outputs": [],
      "source": [
        "keras.utils.set_random_seed(42)"
      ]
    },
    {
      "cell_type": "markdown",
      "metadata": {
        "id": "p7M9I-ekT1dV"
      },
      "source": [
        "## Label and split data\n",
        "\n",
        "To train the model, we'll arbritrarily assign the Cammeo species a label of '1' and the Osmancik species a label of '0'."
      ]
    },
    {
      "cell_type": "code",
      "execution_count": null,
      "metadata": {
        "id": "F4_yTxWdvPqz"
      },
      "outputs": [],
      "source": [
        "# Create a column setting the Cammeo label to '1' and the Osmancik label to '0'\n",
        "# then show 10 randomly selected rows.\n",
        "normalized_dataset['Class_Bool'] = (\n",
        "    # Returns true if class is Cammeo, and false if class is Osmancik\n",
        "    normalized_dataset['Class'] == 'Cammeo'\n",
        ").astype(int)\n",
        "normalized_dataset.sample(10)"
      ]
    },
    {
      "cell_type": "markdown",
      "metadata": {
        "id": "VBY8b0akUqiQ"
      },
      "source": [
        "We can then randomize and partition the dataset into train, test, and validation splits, consisting of 80%, 10%, and 10% of the dataset respectively."
      ]
    },
    {
      "cell_type": "code",
      "execution_count": null,
      "metadata": {
        "id": "XE-RAq0av1wv"
      },
      "outputs": [],
      "source": [
        "# Create indices at the 80th and 90th percentiles\n",
        "number_samples = len(normalized_dataset)\n",
        "index_80th = round(number_samples * 0.8)\n",
        "index_90th = index_80th + round(number_samples * 0.1)\n",
        "\n",
        "# Randomize order and split into train, validation, and test with a .8, .1, .1 split\n",
        "shuffled_dataset = normalized_dataset.sample(frac=1, random_state=100)\n",
        "train_data = shuffled_dataset.iloc[0:index_80th]\n",
        "validation_data = shuffled_dataset.iloc[index_80th:index_90th]\n",
        "test_data = shuffled_dataset.iloc[index_90th:]\n",
        "\n",
        "# Show the first five rows of the last split\n",
        "test_data.head()"
      ]
    },
    {
      "cell_type": "markdown",
      "metadata": {
        "id": "7Iq_haqJYeSH"
      },
      "source": [
        "It's important to prevent the model from getting the label as input during training, which is called label leakage. This can be done by storing features and labels as separate variables."
      ]
    },
    {
      "cell_type": "code",
      "execution_count": null,
      "metadata": {
        "id": "_Gi0VaAAYiaO"
      },
      "outputs": [],
      "source": [
        "label_columns = ['Class', 'Class_Bool']\n",
        "\n",
        "train_features = train_data.drop(columns=label_columns)\n",
        "train_labels = train_data['Class_Bool'].to_numpy()\n",
        "validation_features = validation_data.drop(columns=label_columns)\n",
        "validation_labels = validation_data['Class_Bool'].to_numpy()\n",
        "test_features = test_data.drop(columns=label_columns)\n",
        "test_labels = test_data['Class_Bool'].to_numpy()"
      ]
    },
    {
      "cell_type": "markdown",
      "metadata": {
        "id": "U-kTF2rTY-K8"
      },
      "source": [
        "## Train the model\n",
        "\n",
        "### Choose the input features\n",
        "\n",
        "To start with, we'll train a model on `Eccentricity`, `Major_Axis_Length,` and `Area`."
      ]
    },
    {
      "cell_type": "code",
      "execution_count": null,
      "metadata": {
        "id": "7v_UNIPBtjoz"
      },
      "outputs": [],
      "source": [
        "# Name of the features we'll train our model on.\n",
        "input_features = [\n",
        "    'Eccentricity',\n",
        "    'Major_Axis_Length',\n",
        "    'Area',\n",
        "]"
      ]
    },
    {
      "cell_type": "markdown",
      "metadata": {
        "id": "cSBegHR5rSEn"
      },
      "source": [
        "## Define functions that build and train a model\n",
        "\n",
        "The following code cell defines two functions:\n",
        "\n",
        "  * `create_model(inputs, learning_rate, metrics)`, which defines the model's architecture.\n",
        "  * `train_model(model, dataset, epochs, label_name, batch_size, shuffle)`, uses input features and labels to train the model.\n",
        "\n",
        "Note: create_model applies the sigmoid function to perform [logistic regression](https://developers.google.com/machine-learning/crash-course/logistic-regression).\n",
        "\n",
        "We also define two helpful data structures: `ExperimentSettings` and `Experiment`. We use these simple classes to keep track of our experiments, allowing us to know what hyperparameters were used and what the results were. In `ExperimentSettings`, we store all values describing an experiment (i.e., hyperparameters). Then, we store the results of a training run (i.e., the model and the training metrics) into an `Experiment` instance, along with the `ExperimentSettings` used for that experiment."
      ]
    },
    {
      "cell_type": "code",
      "execution_count": null,
      "metadata": {
        "id": "8B2VArcKH6UX"
      },
      "outputs": [],
      "source": [
        "# @title Define the functions that create and train a model.\n",
        "\n",
        "\n",
        "def create_model(\n",
        "    settings: ml_edu.experiment.ExperimentSettings,\n",
        "    metrics: list[keras.metrics.Metric],\n",
        ") -> keras.Model:\n",
        "  \"\"\"Create and compile a simple classification model.\"\"\"\n",
        "  model_inputs = [\n",
        "      keras.Input(name=feature, shape=(1,))\n",
        "      for feature in settings.input_features\n",
        "  ]\n",
        "  # Use a Concatenate layer to assemble the different inputs into a single\n",
        "  # tensor which will be given as input to the Dense layer.\n",
        "  # For example: [input_1[0][0], input_2[0][0]]\n",
        "\n",
        "  concatenated_inputs = keras.layers.Concatenate()(model_inputs)\n",
        "  model_output = keras.layers.Dense(\n",
        "      units=1, name='dense_layer', activation=keras.activations.sigmoid\n",
        "  )(concatenated_inputs)\n",
        "  model = keras.Model(inputs=model_inputs, outputs=model_output)\n",
        "  # Call the compile method to transform the layers into a model that\n",
        "  # Keras can execute.  Notice that we're using a different loss\n",
        "  # function for classification than for regression.\n",
        "  model.compile(\n",
        "      optimizer=keras.optimizers.RMSprop(\n",
        "          settings.learning_rate\n",
        "      ),\n",
        "      loss=keras.losses.BinaryCrossentropy(),\n",
        "      metrics=metrics,\n",
        "  )\n",
        "  return model\n",
        "\n",
        "\n",
        "def train_model(\n",
        "    experiment_name: str,\n",
        "    model: keras.Model,\n",
        "    dataset: pd.DataFrame,\n",
        "    labels: np.ndarray,\n",
        "    settings: ml_edu.experiment.ExperimentSettings,\n",
        ") -> ml_edu.experiment.Experiment:\n",
        "  \"\"\"Feed a dataset into the model in order to train it.\"\"\"\n",
        "\n",
        "  # The x parameter of keras.Model.fit can be a list of arrays, where\n",
        "  # each array contains the data for one feature.\n",
        "  features = {\n",
        "      feature_name: np.array(dataset[feature_name])\n",
        "      for feature_name in settings.input_features\n",
        "  }\n",
        "\n",
        "  history = model.fit(\n",
        "      x=features,\n",
        "      y=labels,\n",
        "      batch_size=settings.batch_size,\n",
        "      epochs=settings.number_epochs,\n",
        "  )\n",
        "\n",
        "  return ml_edu.experiment.Experiment(\n",
        "      name=experiment_name,\n",
        "      settings=settings,\n",
        "      model=model,\n",
        "      epochs=history.epoch,\n",
        "      metrics_history=pd.DataFrame(history.history),\n",
        "  )\n",
        "\n",
        "\n",
        "print('Defined the create_model and train_model functions.')"
      ]
    },
    {
      "cell_type": "markdown",
      "metadata": {
        "id": "Ak_TMAzGOIFq"
      },
      "source": [
        "## Define a plotting function\n",
        "\n",
        "The following [matplotlib](https://developers.google.com/machine-learning/glossary/#matplotlib) function plots one or more curves, showing how various classification metrics change with each epoch."
      ]
    },
    {
      "cell_type": "markdown",
      "metadata": {
        "id": "D-IXYVfvM4gD"
      },
      "source": [
        "## Invoke the creating, training, and plotting functions\n",
        "\n",
        "The following code specifies the hyperparameters, invokes the\n",
        "functions to create and train the model, then plots the results, including accuracy, precision, and recall.\n",
        "\n",
        "Classification threshold is set at .35. Try playing with the threshold, then the learning rate, to see what changes."
      ]
    },
    {
      "cell_type": "code",
      "execution_count": null,
      "metadata": {
        "id": "Q82E6tS13O_2"
      },
      "outputs": [],
      "source": [
        "# Let's define our first experiment settings.\n",
        "settings = ml_edu.experiment.ExperimentSettings(\n",
        "    learning_rate=0.001,\n",
        "    number_epochs=60,\n",
        "    batch_size=100,\n",
        "    classification_threshold=0.35,\n",
        "    input_features=input_features,\n",
        ")\n",
        "\n",
        "metrics = [\n",
        "    keras.metrics.BinaryAccuracy(\n",
        "        name='accuracy', threshold=settings.classification_threshold\n",
        "    ),\n",
        "    keras.metrics.Precision(\n",
        "        name='precision', thresholds=settings.classification_threshold\n",
        "    ),\n",
        "    keras.metrics.Recall(\n",
        "        name='recall', thresholds=settings.classification_threshold\n",
        "    ),\n",
        "    keras.metrics.AUC(num_thresholds=100, name='auc'),\n",
        "]\n",
        "\n",
        "# Establish the model's topography.\n",
        "model = create_model(settings, metrics)\n",
        "\n",
        "# Train the model on the training set.\n",
        "experiment = train_model(\n",
        "    'baseline', model, train_features, train_labels, settings\n",
        ")\n",
        "\n",
        "# Plot metrics vs. epochs\n",
        "ml_edu.results.plot_experiment_metrics(experiment, ['accuracy', 'precision', 'recall'])\n",
        "ml_edu.results.plot_experiment_metrics(experiment, ['auc'])"
      ]
    },
    {
      "cell_type": "markdown",
      "metadata": {
        "id": "RfxkB-_vwUwq"
      },
      "source": [
        "AUC is calculated across all possible thresholds (in practice in the code above, 100 thresholds), while accuracy, precision, and recall are calculated for only the specified threshold. For this reason they are shown separately above."
      ]
    },
    {
      "cell_type": "markdown",
      "metadata": {
        "id": "u8y8vKBGsv0m"
      },
      "source": [
        "## Evaluate the model against the test set\n",
        "\n",
        "At the end of model training, you ended up with a certain accuracy against the *training set*. Invoke the following code cell to determine your model's accuracy against the *test set*."
      ]
    },
    {
      "cell_type": "code",
      "execution_count": null,
      "metadata": {
        "id": "bHh53BX44R94"
      },
      "outputs": [],
      "source": [
        "def compare_train_test(experiment: ml_edu.experiment.Experiment, test_metrics: dict[str, float]):\n",
        "  print('Comparing metrics between train and test:')\n",
        "  for metric, test_value in test_metrics.items():\n",
        "    print('------')\n",
        "    print(f'Train {metric}: {experiment.get_final_metric_value(metric):.4f}')\n",
        "    print(f'Test {metric}:  {test_value:.4f}')\n",
        "\n",
        "\n",
        "# Evaluate test metrics\n",
        "test_metrics = experiment.evaluate(test_features, test_labels)\n",
        "compare_train_test(experiment, test_metrics)"
      ]
    },
    {
      "cell_type": "markdown",
      "metadata": {
        "id": "ku6nq9KDtL6u"
      },
      "source": [
        "It appears that the model, which achieved ~92% accuracy on the training data, still shows an accuracy of about 90% on the test data. Can we do better? Let's train a model using all seven available features and compare the AUC."
      ]
    },
    {
      "cell_type": "code",
      "execution_count": null,
      "metadata": {
        "id": "72Mfkp3RxQii"
      },
      "outputs": [],
      "source": [
        "# Features used to train the model on.\n",
        "# Specify all features.\n",
        "all_input_features = [\n",
        "  'Eccentricity',\n",
        "  'Major_Axis_Length',\n",
        "  'Minor_Axis_Length',\n",
        "  ? Your code here\n",
        "]"
      ]
    },
    {
      "cell_type": "code",
      "execution_count": null,
      "metadata": {
        "cellView": "form",
        "id": "xfdeJjoUNmTv"
      },
      "outputs": [],
      "source": [
        "#@title Solution\n",
        "# Features used to train the model on.\n",
        "# Specify all features.\n",
        "all_input_features = [\n",
        "  'Eccentricity',\n",
        "  'Major_Axis_Length',\n",
        "  'Minor_Axis_Length',\n",
        "  'Area',\n",
        "  'Convex_Area',\n",
        "  'Perimeter',\n",
        "  'Extent',\n",
        "]"
      ]
    },
    {
      "cell_type": "markdown",
      "metadata": {
        "id": "Hql2nxXqxuBg"
      },
      "source": [
        "## Train the full-featured model and calculate metrics"
      ]
    },
    {
      "cell_type": "code",
      "execution_count": null,
      "metadata": {
        "id": "-85dcJ3ntocd"
      },
      "outputs": [],
      "source": [
        "settings_all_features = ml_edu.experiment.ExperimentSettings(\n",
        "    learning_rate=0.001,\n",
        "    number_epochs=60,\n",
        "    batch_size=100,\n",
        "    classification_threshold=0.5,\n",
        "    input_features=all_input_features,\n",
        ")\n",
        "\n",
        "# Modify the following definition of METRICS to generate\n",
        "# not only accuracy and precision, but also recall:\n",
        "metrics = [\n",
        "    keras.metrics.BinaryAccuracy(\n",
        "        name='accuracy',\n",
        "        threshold=settings_all_features.classification_threshold,\n",
        "    ),\n",
        "    keras.metrics.Precision(\n",
        "        name='precision',\n",
        "        thresholds=settings_all_features.classification_threshold,\n",
        "    ),\n",
        "    keras.metrics.Recall(\n",
        "        name='recall', thresholds=settings_all_features.classification_threshold\n",
        "    ),\n",
        "    keras.metrics.AUC(num_thresholds=100, name='auc'),\n",
        "]\n",
        "\n",
        "# Establish the model's topography.\n",
        "model_all_features = create_model(settings_all_features, metrics)\n",
        "\n",
        "# Train the model on the training set.\n",
        "experiment_all_features = train_model(\n",
        "    'all features',\n",
        "    model_all_features,\n",
        "    train_features,\n",
        "    train_labels,\n",
        "    settings_all_features,\n",
        ")\n",
        "\n",
        "# Plot metrics vs. epochs\n",
        "ml_edu.results.plot_experiment_metrics(\n",
        "    experiment_all_features, ['accuracy', 'precision', 'recall']\n",
        ")\n",
        "ml_edu.results.plot_experiment_metrics(experiment_all_features, ['auc'])"
      ]
    },
    {
      "cell_type": "markdown",
      "metadata": {
        "id": "E5ndvrnjzXCo"
      },
      "source": [
        "## Evaluate full-featured model on test split"
      ]
    },
    {
      "cell_type": "code",
      "execution_count": null,
      "metadata": {
        "id": "-BklcY6pyDrY"
      },
      "outputs": [],
      "source": [
        "test_metrics_all_features = experiment_all_features.evaluate(\n",
        "    test_features,\n",
        "    test_labels,\n",
        ")\n",
        "compare_train_test(experiment_all_features, test_metrics_all_features)"
      ]
    },
    {
      "cell_type": "markdown",
      "metadata": {
        "id": "wTr_boLBze2k"
      },
      "source": [
        "This second model has very similar train and test metrics, suggesting it overfit less to the training data."
      ]
    },
    {
      "cell_type": "markdown",
      "metadata": {
        "id": "EqgyfbXXawq4"
      },
      "source": [
        "# Comparing our two models\n",
        "\n",
        "With our simple experimentation framework, we can keep track of which experiments we ran, and what the results were. We can also define a helper function below which allows us to easily compare two or more models, both during training and when evaluated on the test set."
      ]
    },
    {
      "cell_type": "code",
      "execution_count": null,
      "metadata": {
        "id": "JhbgA_FEayYU"
      },
      "outputs": [],
      "source": [
        "ml_edu.results.compare_experiment([experiment, experiment_all_features],\n",
        "                                  ['accuracy', 'auc'],\n",
        "                                  test_features, test_labels)"
      ]
    },
    {
      "cell_type": "markdown",
      "metadata": {
        "id": "sKIuJGOTbNWz"
      },
      "source": [
        "Comparing the two models, both have AUC of ~.97-.98. There does not seem to be a large gain in model quality when adding the other four features, which makes sense, given that many of the features (area, perimeter, and convex area, for example) are interrelated."
      ]
    }
  ],
  "metadata": {
    "colab": {
      "provenance": [],
      "toc_visible": true
    },
    "kernelspec": {
      "display_name": "Python 3",
      "name": "python3"
    },
    "language_info": {
      "name": "python"
    }
  },
  "nbformat": 4,
  "nbformat_minor": 0
}